{
 "cells": [
  {
   "cell_type": "code",
   "execution_count": 1,
   "metadata": {},
   "outputs": [],
   "source": [
    "from math import *\n",
    "import collaborative_recommendation as cr\n",
    "import content_based_recommendation as cbr"
   ]
  },
  {
   "cell_type": "code",
   "execution_count": 2,
   "metadata": {},
   "outputs": [],
   "source": [
    "cr_users = {}\n",
    "cbr_users = {}"
   ]
  },
  {
   "cell_type": "code",
   "execution_count": 3,
   "metadata": {},
   "outputs": [],
   "source": [
    "cr_users['Lucas'] = {'João Amoêdo': 3, 'Ciro Gomes': 3, 'Fernando Haddad': 1}\n",
    "cbr_users['Lucas'] = {'saude': 3, 'seguranca': 5, 'educacao': 3,\n",
    "                      'economia': 3, 'cultura': 2, 'tecnologia': 5,'meio ambiente': 2}"
   ]
  },
  {
   "cell_type": "code",
   "execution_count": 8,
   "metadata": {},
   "outputs": [],
   "source": [
    "cr_recommendation = cr.recommend(cr_users['Lucas'])"
   ]
  },
  {
   "cell_type": "code",
   "execution_count": 9,
   "metadata": {},
   "outputs": [
    {
     "data": {
      "text/plain": [
       "[('Marina Silva', 3.0),\n",
       " ('Jair Bolsonaro', 2.5),\n",
       " ('Guilherme Boulos', 2.25),\n",
       " ('Cabo Daciolo', 2.25),\n",
       " ('Geraldo Alckmin', 2.2)]"
      ]
     },
     "execution_count": 9,
     "metadata": {},
     "output_type": "execute_result"
    }
   ],
   "source": [
    "cr_recommendation"
   ]
  },
  {
   "cell_type": "code",
   "execution_count": 10,
   "metadata": {},
   "outputs": [],
   "source": [
    "final_recommendation = cbr.recommend(cr_recommendation, cbr_users['Lucas'])"
   ]
  },
  {
   "cell_type": "code",
   "execution_count": 11,
   "metadata": {},
   "outputs": [
    {
     "data": {
      "text/plain": [
       "[('Jair Bolsonaro', 6.491372959215743),\n",
       " ('Guilherme Boulos', 8.51759115189904),\n",
       " ('Cabo Daciolo', 14.228803396222164),\n",
       " ('Marina Silva', 14.635117186610477),\n",
       " ('Geraldo Alckmin', 15.344763563685502)]"
      ]
     },
     "execution_count": 11,
     "metadata": {},
     "output_type": "execute_result"
    }
   ],
   "source": [
    "final_recommendation"
   ]
  }
 ],
 "metadata": {
  "kernelspec": {
   "display_name": "Python 3",
   "language": "python",
   "name": "python3"
  },
  "language_info": {
   "codemirror_mode": {
    "name": "ipython",
    "version": 3
   },
   "file_extension": ".py",
   "mimetype": "text/x-python",
   "name": "python",
   "nbconvert_exporter": "python",
   "pygments_lexer": "ipython3",
   "version": "3.6.6"
  }
 },
 "nbformat": 4,
 "nbformat_minor": 2
}
