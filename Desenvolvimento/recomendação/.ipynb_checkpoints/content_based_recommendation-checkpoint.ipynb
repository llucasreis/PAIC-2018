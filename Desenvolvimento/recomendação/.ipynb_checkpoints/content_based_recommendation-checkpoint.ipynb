{
 "cells": [
  {
   "cell_type": "markdown",
   "metadata": {},
   "source": [
    "# Recomendação por Filtragem Baseada em Conteúdo"
   ]
  },
  {
   "cell_type": "markdown",
   "metadata": {},
   "source": [
    "Este *notebook* realiza recomendações de ex-candidatos à presidência para usuários, através da filtragem baseada em conteúdo."
   ]
  },
  {
   "cell_type": "markdown",
   "metadata": {},
   "source": [
    "O *dataset* foi obtido a partir da análise das propostas de cada ex-candidato (arquivos .pdf), realizou-se duas estratégias para realizar o levantamento de dados:\n",
    "* A primeira consiste em contar a quantidade de vezes que tal candidato mencionou palavras sobre cada área de interesse.\n",
    "* A segunda busca verificar o quão importante tal área é importante para o candidato, utilizando a métrica **TF-IDF**.\n",
    "\n",
    "Isto gerou dois *datasets*, que serão chamados para este *notebook* como bibliotecas, o primeiro corresponde à `candidate_provider` e o segundo à `candidate_provider_2`."
   ]
  },
  {
   "cell_type": "markdown",
   "metadata": {},
   "source": [
    "**IMPORTANTE**: Como as duas abordagens realizam uma extração de dados de arquivos PDF, precisou-se utilizar várias bibliotecas. Assim, será necessária instalá-las para poder executar este *notebook*, são elas:\n",
    "* PyPDF2\n",
    "* Textract\n",
    "* nltk\n",
    "* nltk_data"
   ]
  },
  {
   "cell_type": "markdown",
   "metadata": {},
   "source": [
    "**Obs.:** Como a biblioteca `PyPDF2` possui algumas limitações, algumas propostas de ex-candidatos para o *dataset* em `candidate_provider_2` não foram lidas com sucesso, está sendo estudado uma alternativa para a leitura das propostas restantes. Em `candidate_provider` foi possível acessar todas as propostas com a biblioteca `textract`.\n",
    "\n",
    "\n",
    "A mudança de biblioteca se deve ao fato de que com o `PyPDF2` é possível ace"
   ]
  },
  {
   "cell_type": "code",
   "execution_count": 37,
   "metadata": {},
   "outputs": [],
   "source": [
    "from math import *\n",
    "import numpy as np\n",
    "import pandas as pd"
   ]
  },
  {
   "cell_type": "code",
   "execution_count": 58,
   "metadata": {},
   "outputs": [],
   "source": [
    "df_cand = pd.read_csv('../datasets/candidate.csv')\n",
    "candidates = ['bolsonaro', 'ciro', 'daciolo', 'boulos', 'marina', 'haddad']\n",
    "df_cand.index = candidates"
   ]
  },
  {
   "cell_type": "markdown",
   "metadata": {},
   "source": [
    "## Primeiro *Dataset*\n",
    "\n",
    "Este *dataset* foi obtida a partir da métrica TF-IDF de cada proposta dos ex-candidatos. Os dados foram processados em `providers/algoritmos/candidate_provider_2.py` e exportados para um arquivo `.csv`."
   ]
  },
  {
   "cell_type": "code",
   "execution_count": 59,
   "metadata": {},
   "outputs": [
    {
     "data": {
      "text/html": [
       "<div>\n",
       "<style scoped>\n",
       "    .dataframe tbody tr th:only-of-type {\n",
       "        vertical-align: middle;\n",
       "    }\n",
       "\n",
       "    .dataframe tbody tr th {\n",
       "        vertical-align: top;\n",
       "    }\n",
       "\n",
       "    .dataframe thead th {\n",
       "        text-align: right;\n",
       "    }\n",
       "</style>\n",
       "<table border=\"1\" class=\"dataframe\">\n",
       "  <thead>\n",
       "    <tr style=\"text-align: right;\">\n",
       "      <th></th>\n",
       "      <th>cultura</th>\n",
       "      <th>economia</th>\n",
       "      <th>educacao</th>\n",
       "      <th>meio ambiente</th>\n",
       "      <th>saude</th>\n",
       "      <th>seguranca</th>\n",
       "      <th>tecnologia</th>\n",
       "    </tr>\n",
       "  </thead>\n",
       "  <tbody>\n",
       "    <tr>\n",
       "      <th>bolsonaro</th>\n",
       "      <td>1.298674</td>\n",
       "      <td>2.101016</td>\n",
       "      <td>2.217653</td>\n",
       "      <td>0.943479</td>\n",
       "      <td>2.067089</td>\n",
       "      <td>1.916048</td>\n",
       "      <td>1.124516</td>\n",
       "    </tr>\n",
       "    <tr>\n",
       "      <th>ciro</th>\n",
       "      <td>0.577953</td>\n",
       "      <td>1.572047</td>\n",
       "      <td>0.973766</td>\n",
       "      <td>0.467057</td>\n",
       "      <td>0.755462</td>\n",
       "      <td>0.962723</td>\n",
       "      <td>0.702406</td>\n",
       "    </tr>\n",
       "    <tr>\n",
       "      <th>daciolo</th>\n",
       "      <td>0.053222</td>\n",
       "      <td>0.286808</td>\n",
       "      <td>0.513717</td>\n",
       "      <td>0.062666</td>\n",
       "      <td>0.368084</td>\n",
       "      <td>0.325294</td>\n",
       "      <td>0.154583</td>\n",
       "    </tr>\n",
       "    <tr>\n",
       "      <th>boulos</th>\n",
       "      <td>1.929544</td>\n",
       "      <td>3.294471</td>\n",
       "      <td>2.777466</td>\n",
       "      <td>1.666706</td>\n",
       "      <td>2.350678</td>\n",
       "      <td>2.757596</td>\n",
       "      <td>2.078143</td>\n",
       "    </tr>\n",
       "    <tr>\n",
       "      <th>marina</th>\n",
       "      <td>0.453759</td>\n",
       "      <td>1.045867</td>\n",
       "      <td>0.665708</td>\n",
       "      <td>0.252479</td>\n",
       "      <td>0.404181</td>\n",
       "      <td>0.394746</td>\n",
       "      <td>0.443712</td>\n",
       "    </tr>\n",
       "    <tr>\n",
       "      <th>haddad</th>\n",
       "      <td>0.163086</td>\n",
       "      <td>0.434171</td>\n",
       "      <td>0.229158</td>\n",
       "      <td>0.100869</td>\n",
       "      <td>0.257830</td>\n",
       "      <td>0.163831</td>\n",
       "      <td>0.200668</td>\n",
       "    </tr>\n",
       "  </tbody>\n",
       "</table>\n",
       "</div>"
      ],
      "text/plain": [
       "            cultura  economia  educacao  meio ambiente     saude  seguranca  \\\n",
       "bolsonaro  1.298674  2.101016  2.217653       0.943479  2.067089   1.916048   \n",
       "ciro       0.577953  1.572047  0.973766       0.467057  0.755462   0.962723   \n",
       "daciolo    0.053222  0.286808  0.513717       0.062666  0.368084   0.325294   \n",
       "boulos     1.929544  3.294471  2.777466       1.666706  2.350678   2.757596   \n",
       "marina     0.453759  1.045867  0.665708       0.252479  0.404181   0.394746   \n",
       "haddad     0.163086  0.434171  0.229158       0.100869  0.257830   0.163831   \n",
       "\n",
       "           tecnologia  \n",
       "bolsonaro    1.124516  \n",
       "ciro         0.702406  \n",
       "daciolo      0.154583  \n",
       "boulos       2.078143  \n",
       "marina       0.443712  \n",
       "haddad       0.200668  "
      ]
     },
     "execution_count": 59,
     "metadata": {},
     "output_type": "execute_result"
    }
   ],
   "source": [
    "df_cand"
   ]
  },
  {
   "cell_type": "markdown",
   "metadata": {},
   "source": [
    "## Normalizando o *Dataset*\n",
    "\n",
    "A avaliação dos usuários para cada área é no intervalo de 1 a 5, assim é necessário normalizar o *dataset* para este mesmo intervalo, por isso utilizou-se a equação abaixo para realizar este processo.\n",
    "\n",
    "**Obs.:** Como alguns candidatos possuem **todas** as suas colunas abaixo de 1, mesmo normalizando o *dataset* essas colunas irão continuar pequenas e é provável que esses candidatos não sejam recomendados. Será verificado novamente o algoritmo do TF-IDF para buscar possíveis erros."
   ]
  },
  {
   "cell_type": "code",
   "execution_count": 44,
   "metadata": {},
   "outputs": [],
   "source": [
    "a = 1\n",
    "b = 5"
   ]
  },
  {
   "cell_type": "code",
   "execution_count": 45,
   "metadata": {},
   "outputs": [],
   "source": [
    "min_value = min(df_cand.min())\n",
    "max_value = max(df_cand.max())"
   ]
  },
  {
   "cell_type": "code",
   "execution_count": 46,
   "metadata": {},
   "outputs": [],
   "source": [
    "def normalize(x, min_, max_):\n",
    "    return ((b - a) * ((x - min_) / (max_ - min_))) + a"
   ]
  },
  {
   "cell_type": "code",
   "execution_count": 47,
   "metadata": {},
   "outputs": [],
   "source": [
    "df_cand = normalize(df_cand, min_value, max_value)"
   ]
  },
  {
   "cell_type": "code",
   "execution_count": 48,
   "metadata": {},
   "outputs": [
    {
     "data": {
      "text/html": [
       "<div>\n",
       "<style scoped>\n",
       "    .dataframe tbody tr th:only-of-type {\n",
       "        vertical-align: middle;\n",
       "    }\n",
       "\n",
       "    .dataframe tbody tr th {\n",
       "        vertical-align: top;\n",
       "    }\n",
       "\n",
       "    .dataframe thead th {\n",
       "        text-align: right;\n",
       "    }\n",
       "</style>\n",
       "<table border=\"1\" class=\"dataframe\">\n",
       "  <thead>\n",
       "    <tr style=\"text-align: right;\">\n",
       "      <th></th>\n",
       "      <th>cultura</th>\n",
       "      <th>economia</th>\n",
       "      <th>educacao</th>\n",
       "      <th>meio ambiente</th>\n",
       "      <th>saude</th>\n",
       "      <th>seguranca</th>\n",
       "      <th>tecnologia</th>\n",
       "    </tr>\n",
       "  </thead>\n",
       "  <tbody>\n",
       "    <tr>\n",
       "      <th>bolsonaro</th>\n",
       "      <td>2.537003</td>\n",
       "      <td>3.527167</td>\n",
       "      <td>3.671107</td>\n",
       "      <td>2.098659</td>\n",
       "      <td>3.485298</td>\n",
       "      <td>3.298899</td>\n",
       "      <td>2.322075</td>\n",
       "    </tr>\n",
       "    <tr>\n",
       "      <th>ciro</th>\n",
       "      <td>1.647567</td>\n",
       "      <td>2.874370</td>\n",
       "      <td>2.136036</td>\n",
       "      <td>1.510711</td>\n",
       "      <td>1.866628</td>\n",
       "      <td>2.122408</td>\n",
       "      <td>1.801152</td>\n",
       "    </tr>\n",
       "    <tr>\n",
       "      <th>daciolo</th>\n",
       "      <td>1.000000</td>\n",
       "      <td>1.288266</td>\n",
       "      <td>1.568293</td>\n",
       "      <td>1.011654</td>\n",
       "      <td>1.388568</td>\n",
       "      <td>1.335761</td>\n",
       "      <td>1.125088</td>\n",
       "    </tr>\n",
       "    <tr>\n",
       "      <th>boulos</th>\n",
       "      <td>3.315554</td>\n",
       "      <td>5.000000</td>\n",
       "      <td>4.361968</td>\n",
       "      <td>2.991188</td>\n",
       "      <td>3.835272</td>\n",
       "      <td>4.337447</td>\n",
       "      <td>3.498938</td>\n",
       "    </tr>\n",
       "    <tr>\n",
       "      <th>marina</th>\n",
       "      <td>1.494300</td>\n",
       "      <td>2.225015</td>\n",
       "      <td>1.755864</td>\n",
       "      <td>1.245901</td>\n",
       "      <td>1.433115</td>\n",
       "      <td>1.421472</td>\n",
       "      <td>1.481900</td>\n",
       "    </tr>\n",
       "    <tr>\n",
       "      <th>haddad</th>\n",
       "      <td>1.135582</td>\n",
       "      <td>1.470127</td>\n",
       "      <td>1.217120</td>\n",
       "      <td>1.058801</td>\n",
       "      <td>1.252505</td>\n",
       "      <td>1.136502</td>\n",
       "      <td>1.181962</td>\n",
       "    </tr>\n",
       "  </tbody>\n",
       "</table>\n",
       "</div>"
      ],
      "text/plain": [
       "            cultura  economia  educacao  meio ambiente     saude  seguranca  \\\n",
       "bolsonaro  2.537003  3.527167  3.671107       2.098659  3.485298   3.298899   \n",
       "ciro       1.647567  2.874370  2.136036       1.510711  1.866628   2.122408   \n",
       "daciolo    1.000000  1.288266  1.568293       1.011654  1.388568   1.335761   \n",
       "boulos     3.315554  5.000000  4.361968       2.991188  3.835272   4.337447   \n",
       "marina     1.494300  2.225015  1.755864       1.245901  1.433115   1.421472   \n",
       "haddad     1.135582  1.470127  1.217120       1.058801  1.252505   1.136502   \n",
       "\n",
       "           tecnologia  \n",
       "bolsonaro    2.322075  \n",
       "ciro         1.801152  \n",
       "daciolo      1.125088  \n",
       "boulos       3.498938  \n",
       "marina       1.481900  \n",
       "haddad       1.181962  "
      ]
     },
     "execution_count": 48,
     "metadata": {},
     "output_type": "execute_result"
    }
   ],
   "source": [
    "df_cand"
   ]
  },
  {
   "cell_type": "markdown",
   "metadata": {},
   "source": [
    "Após o pré-processamento de dados, basta apenas transformar o *DataFrame* em um dicionário e inicializar o dicionário de usuários.\n",
    "\n",
    "Atualmente não realizou-se uma coleta de dados da avaliação do usuário para cada área, visto que é um processamento um pouco mais complexo do que apenas a nota individual. Atualmente encontrou-se apenas o resumo das propostas por área do ex-candidato Bolsonaro."
   ]
  },
  {
   "cell_type": "code",
   "execution_count": 49,
   "metadata": {},
   "outputs": [],
   "source": [
    "dict_cand = df_cand.T.to_dict()"
   ]
  },
  {
   "cell_type": "code",
   "execution_count": 50,
   "metadata": {},
   "outputs": [],
   "source": [
    "users = {}"
   ]
  },
  {
   "cell_type": "code",
   "execution_count": 51,
   "metadata": {},
   "outputs": [],
   "source": [
    "users['Lucas'] = {'cultura': 2, 'economia': 5, 'educacao': 4,\n",
    "                 'meio ambiente': 3, 'saude': 3, 'seguranca': 4, 'tecnologia': 5}\n",
    "users['Eleitor'] = {'cultura': 5, 'economia': 2, 'educacao': 3,\n",
    "                   'meio ambiente': 5, 'saude': 1, 'seguranca': 2, 'tecnologia': 4}\n",
    "users['Eleitor2'] = {'cultura': 1, 'economia': 5, 'educacao': 2,\n",
    "                   'meio ambiente': 3, 'saude': 3, 'seguranca': 2, 'tecnologia': 5}"
   ]
  },
  {
   "cell_type": "code",
   "execution_count": 52,
   "metadata": {},
   "outputs": [],
   "source": [
    "def minkowski(rating1, rating2, r = 1):\n",
    "    distance = 0\n",
    "    commonRatings = False\n",
    "    for key in rating1:\n",
    "        if key in rating2:\n",
    "            distance += pow(abs(rating1[key] - rating2[key]), r)\n",
    "            commonRatings = True\n",
    "    if commonRatings:\n",
    "        return pow(distance, 1/r)\n",
    "    else:\n",
    "        return 0"
   ]
  },
  {
   "cell_type": "code",
   "execution_count": 53,
   "metadata": {},
   "outputs": [
    {
     "name": "stdout",
     "output_type": "stream",
     "text": [
      "7.104393269925497\n"
     ]
    }
   ],
   "source": [
    "print(minkowski(dict_cand['bolsonaro'], users['Lucas']))"
   ]
  },
  {
   "cell_type": "code",
   "execution_count": 54,
   "metadata": {},
   "outputs": [],
   "source": [
    "def recommend(userName, candidatos):\n",
    "    distances = []\n",
    "    for candidato in candidatos:\n",
    "        distance = minkowski(candidatos[candidato], users[userName])\n",
    "        distances.append((distance, candidato))\n",
    "    distances.sort()\n",
    "    return distances"
   ]
  },
  {
   "cell_type": "code",
   "execution_count": 55,
   "metadata": {},
   "outputs": [
    {
     "name": "stdout",
     "output_type": "stream",
     "text": [
      "[(11.76794027045537, 'ciro'), (12.258694453557807, 'marina'), (13.024734504480588, 'bolsonaro'), (13.729005732266298, 'boulos'), (14.052411038190343, 'haddad'), (14.059505515134052, 'daciolo')]\n"
     ]
    }
   ],
   "source": [
    "print(recommend(\"Eleitor\", dict_cand))"
   ]
  },
  {
   "cell_type": "code",
   "execution_count": 56,
   "metadata": {},
   "outputs": [
    {
     "name": "stdout",
     "output_type": "stream",
     "text": [
      "[(4.360113914030015, 'boulos'), (7.104393269925497, 'bolsonaro'), (12.041128265916582, 'ciro'), (14.942433894802575, 'marina'), (17.282369014884114, 'daciolo'), (17.547401864351592, 'haddad')]\n"
     ]
    }
   ],
   "source": [
    "print(recommend(\"Lucas\", dict_cand))"
   ]
  },
  {
   "cell_type": "code",
   "execution_count": 57,
   "metadata": {},
   "outputs": [
    {
     "name": "stdout",
     "output_type": "stream",
     "text": [
      "[(8.853149930934752, 'ciro'), (9.360113914030016, 'boulos'), (10.044405881219852, 'bolsonaro'), (10.931033187153067, 'marina'), (12.282369014884113, 'daciolo'), (12.818565511786758, 'haddad')]\n"
     ]
    }
   ],
   "source": [
    "print(recommend(\"Eleitor2\", dict_cand))"
   ]
  },
  {
   "cell_type": "markdown",
   "metadata": {},
   "source": [
    "**Obs.:** Como já era de se esperar, os candidatos Marina e Daciolo ficaram por último justamente por seus valores serem muito baixos no *dataset* original."
   ]
  },
  {
   "cell_type": "markdown",
   "metadata": {},
   "source": [
    "## Segundo *Dataset*"
   ]
  },
  {
   "cell_type": "markdown",
   "metadata": {},
   "source": [
    "Este *dataset* foi obtido diretamente das propostas de cada candidato, onde verificou-se quantas vezes tal candidato mencionou palavras sobre cada área de interesse. Os dados foram processados em `providers/algoritmos/candidate_provider.py` e exportados para um arquivo `.csv`.\n",
    "\n",
    "**Obs.:** Como a proposta do ex-candidato Boulos é bem maior que as outras propostas, **todas** as suas colunas são bem maiores que as outras."
   ]
  },
  {
   "cell_type": "code",
   "execution_count": 61,
   "metadata": {},
   "outputs": [],
   "source": [
    "df_cand_2 = pd.read_csv('../datasets/candidate_2.csv')\n",
    "candidates = ['alckmin', 'alvaro', 'amoedo', 'bolsonaro', 'boulos', 'ciro', 'daciolo', 'haddad', 'marina', 'meirelles']\n",
    "df_cand_2.index = candidates"
   ]
  },
  {
   "cell_type": "code",
   "execution_count": 62,
   "metadata": {},
   "outputs": [
    {
     "data": {
      "text/html": [
       "<div>\n",
       "<style scoped>\n",
       "    .dataframe tbody tr th:only-of-type {\n",
       "        vertical-align: middle;\n",
       "    }\n",
       "\n",
       "    .dataframe tbody tr th {\n",
       "        vertical-align: top;\n",
       "    }\n",
       "\n",
       "    .dataframe thead th {\n",
       "        text-align: right;\n",
       "    }\n",
       "</style>\n",
       "<table border=\"1\" class=\"dataframe\">\n",
       "  <thead>\n",
       "    <tr style=\"text-align: right;\">\n",
       "      <th></th>\n",
       "      <th>cultura</th>\n",
       "      <th>economia</th>\n",
       "      <th>educacao</th>\n",
       "      <th>meio ambiente</th>\n",
       "      <th>saude</th>\n",
       "      <th>seguranca</th>\n",
       "      <th>tecnologia</th>\n",
       "    </tr>\n",
       "  </thead>\n",
       "  <tbody>\n",
       "    <tr>\n",
       "      <th>alckmin</th>\n",
       "      <td>8</td>\n",
       "      <td>30</td>\n",
       "      <td>11</td>\n",
       "      <td>2</td>\n",
       "      <td>6</td>\n",
       "      <td>14</td>\n",
       "      <td>9</td>\n",
       "    </tr>\n",
       "    <tr>\n",
       "      <th>alvaro</th>\n",
       "      <td>33</td>\n",
       "      <td>55</td>\n",
       "      <td>9</td>\n",
       "      <td>8</td>\n",
       "      <td>9</td>\n",
       "      <td>7</td>\n",
       "      <td>14</td>\n",
       "    </tr>\n",
       "    <tr>\n",
       "      <th>amoedo</th>\n",
       "      <td>7</td>\n",
       "      <td>56</td>\n",
       "      <td>35</td>\n",
       "      <td>16</td>\n",
       "      <td>13</td>\n",
       "      <td>22</td>\n",
       "      <td>12</td>\n",
       "    </tr>\n",
       "    <tr>\n",
       "      <th>bolsonaro</th>\n",
       "      <td>17</td>\n",
       "      <td>128</td>\n",
       "      <td>47</td>\n",
       "      <td>15</td>\n",
       "      <td>28</td>\n",
       "      <td>40</td>\n",
       "      <td>44</td>\n",
       "    </tr>\n",
       "    <tr>\n",
       "      <th>boulos</th>\n",
       "      <td>315</td>\n",
       "      <td>823</td>\n",
       "      <td>297</td>\n",
       "      <td>119</td>\n",
       "      <td>165</td>\n",
       "      <td>360</td>\n",
       "      <td>267</td>\n",
       "    </tr>\n",
       "    <tr>\n",
       "      <th>ciro</th>\n",
       "      <td>67</td>\n",
       "      <td>376</td>\n",
       "      <td>155</td>\n",
       "      <td>44</td>\n",
       "      <td>59</td>\n",
       "      <td>110</td>\n",
       "      <td>111</td>\n",
       "    </tr>\n",
       "    <tr>\n",
       "      <th>daciolo</th>\n",
       "      <td>5</td>\n",
       "      <td>53</td>\n",
       "      <td>74</td>\n",
       "      <td>3</td>\n",
       "      <td>40</td>\n",
       "      <td>46</td>\n",
       "      <td>20</td>\n",
       "    </tr>\n",
       "    <tr>\n",
       "      <th>haddad</th>\n",
       "      <td>180</td>\n",
       "      <td>534</td>\n",
       "      <td>195</td>\n",
       "      <td>84</td>\n",
       "      <td>76</td>\n",
       "      <td>125</td>\n",
       "      <td>177</td>\n",
       "    </tr>\n",
       "    <tr>\n",
       "      <th>marina</th>\n",
       "      <td>98</td>\n",
       "      <td>273</td>\n",
       "      <td>83</td>\n",
       "      <td>58</td>\n",
       "      <td>62</td>\n",
       "      <td>75</td>\n",
       "      <td>102</td>\n",
       "    </tr>\n",
       "    <tr>\n",
       "      <th>meirelles</th>\n",
       "      <td>6</td>\n",
       "      <td>40</td>\n",
       "      <td>20</td>\n",
       "      <td>8</td>\n",
       "      <td>17</td>\n",
       "      <td>24</td>\n",
       "      <td>8</td>\n",
       "    </tr>\n",
       "  </tbody>\n",
       "</table>\n",
       "</div>"
      ],
      "text/plain": [
       "           cultura  economia  educacao  meio ambiente  saude  seguranca  \\\n",
       "alckmin          8        30        11              2      6         14   \n",
       "alvaro          33        55         9              8      9          7   \n",
       "amoedo           7        56        35             16     13         22   \n",
       "bolsonaro       17       128        47             15     28         40   \n",
       "boulos         315       823       297            119    165        360   \n",
       "ciro            67       376       155             44     59        110   \n",
       "daciolo          5        53        74              3     40         46   \n",
       "haddad         180       534       195             84     76        125   \n",
       "marina          98       273        83             58     62         75   \n",
       "meirelles        6        40        20              8     17         24   \n",
       "\n",
       "           tecnologia  \n",
       "alckmin             9  \n",
       "alvaro             14  \n",
       "amoedo             12  \n",
       "bolsonaro          44  \n",
       "boulos            267  \n",
       "ciro              111  \n",
       "daciolo            20  \n",
       "haddad            177  \n",
       "marina            102  \n",
       "meirelles           8  "
      ]
     },
     "execution_count": 62,
     "metadata": {},
     "output_type": "execute_result"
    }
   ],
   "source": [
    "df_cand_2"
   ]
  },
  {
   "cell_type": "markdown",
   "metadata": {},
   "source": [
    "## Normalizando o *Dataset*\n",
    "\n",
    "Assim como anterior, o *dataset* precisa ser normalizado para o intervalo de notas dos usuários (de 1 a 5), assim utilizou-se a função `normalize`."
   ]
  },
  {
   "cell_type": "code",
   "execution_count": 63,
   "metadata": {},
   "outputs": [],
   "source": [
    "min_value_2 = min(df_cand_2.min())\n",
    "max_value_2 = max(df_cand_2.max())"
   ]
  },
  {
   "cell_type": "code",
   "execution_count": 64,
   "metadata": {},
   "outputs": [],
   "source": [
    "df_cand_2 = normalize(df_cand_2, min_value_2, max_value_2)"
   ]
  },
  {
   "cell_type": "code",
   "execution_count": 65,
   "metadata": {},
   "outputs": [
    {
     "data": {
      "text/html": [
       "<div>\n",
       "<style scoped>\n",
       "    .dataframe tbody tr th:only-of-type {\n",
       "        vertical-align: middle;\n",
       "    }\n",
       "\n",
       "    .dataframe tbody tr th {\n",
       "        vertical-align: top;\n",
       "    }\n",
       "\n",
       "    .dataframe thead th {\n",
       "        text-align: right;\n",
       "    }\n",
       "</style>\n",
       "<table border=\"1\" class=\"dataframe\">\n",
       "  <thead>\n",
       "    <tr style=\"text-align: right;\">\n",
       "      <th></th>\n",
       "      <th>cultura</th>\n",
       "      <th>economia</th>\n",
       "      <th>educacao</th>\n",
       "      <th>meio ambiente</th>\n",
       "      <th>saude</th>\n",
       "      <th>seguranca</th>\n",
       "      <th>tecnologia</th>\n",
       "    </tr>\n",
       "  </thead>\n",
       "  <tbody>\n",
       "    <tr>\n",
       "      <th>alckmin</th>\n",
       "      <td>1.029233</td>\n",
       "      <td>1.136419</td>\n",
       "      <td>1.043849</td>\n",
       "      <td>1.000000</td>\n",
       "      <td>1.019488</td>\n",
       "      <td>1.058465</td>\n",
       "      <td>1.034105</td>\n",
       "    </tr>\n",
       "    <tr>\n",
       "      <th>alvaro</th>\n",
       "      <td>1.151035</td>\n",
       "      <td>1.258222</td>\n",
       "      <td>1.034105</td>\n",
       "      <td>1.029233</td>\n",
       "      <td>1.034105</td>\n",
       "      <td>1.024361</td>\n",
       "      <td>1.058465</td>\n",
       "    </tr>\n",
       "    <tr>\n",
       "      <th>amoedo</th>\n",
       "      <td>1.024361</td>\n",
       "      <td>1.263094</td>\n",
       "      <td>1.160780</td>\n",
       "      <td>1.068210</td>\n",
       "      <td>1.053593</td>\n",
       "      <td>1.097442</td>\n",
       "      <td>1.048721</td>\n",
       "    </tr>\n",
       "    <tr>\n",
       "      <th>bolsonaro</th>\n",
       "      <td>1.073082</td>\n",
       "      <td>1.613886</td>\n",
       "      <td>1.219245</td>\n",
       "      <td>1.063337</td>\n",
       "      <td>1.126675</td>\n",
       "      <td>1.185140</td>\n",
       "      <td>1.204629</td>\n",
       "    </tr>\n",
       "    <tr>\n",
       "      <th>boulos</th>\n",
       "      <td>2.524970</td>\n",
       "      <td>5.000000</td>\n",
       "      <td>2.437272</td>\n",
       "      <td>1.570037</td>\n",
       "      <td>1.794153</td>\n",
       "      <td>2.744214</td>\n",
       "      <td>2.291108</td>\n",
       "    </tr>\n",
       "    <tr>\n",
       "      <th>ciro</th>\n",
       "      <td>1.316687</td>\n",
       "      <td>2.822168</td>\n",
       "      <td>1.745432</td>\n",
       "      <td>1.204629</td>\n",
       "      <td>1.277710</td>\n",
       "      <td>1.526188</td>\n",
       "      <td>1.531060</td>\n",
       "    </tr>\n",
       "    <tr>\n",
       "      <th>daciolo</th>\n",
       "      <td>1.014616</td>\n",
       "      <td>1.248477</td>\n",
       "      <td>1.350792</td>\n",
       "      <td>1.004872</td>\n",
       "      <td>1.185140</td>\n",
       "      <td>1.214373</td>\n",
       "      <td>1.087698</td>\n",
       "    </tr>\n",
       "    <tr>\n",
       "      <th>haddad</th>\n",
       "      <td>1.867235</td>\n",
       "      <td>3.591961</td>\n",
       "      <td>1.940317</td>\n",
       "      <td>1.399513</td>\n",
       "      <td>1.360536</td>\n",
       "      <td>1.599269</td>\n",
       "      <td>1.852619</td>\n",
       "    </tr>\n",
       "    <tr>\n",
       "      <th>marina</th>\n",
       "      <td>1.467722</td>\n",
       "      <td>2.320341</td>\n",
       "      <td>1.394641</td>\n",
       "      <td>1.272838</td>\n",
       "      <td>1.292326</td>\n",
       "      <td>1.355664</td>\n",
       "      <td>1.487211</td>\n",
       "    </tr>\n",
       "    <tr>\n",
       "      <th>meirelles</th>\n",
       "      <td>1.019488</td>\n",
       "      <td>1.185140</td>\n",
       "      <td>1.087698</td>\n",
       "      <td>1.029233</td>\n",
       "      <td>1.073082</td>\n",
       "      <td>1.107186</td>\n",
       "      <td>1.029233</td>\n",
       "    </tr>\n",
       "  </tbody>\n",
       "</table>\n",
       "</div>"
      ],
      "text/plain": [
       "            cultura  economia  educacao  meio ambiente     saude  seguranca  \\\n",
       "alckmin    1.029233  1.136419  1.043849       1.000000  1.019488   1.058465   \n",
       "alvaro     1.151035  1.258222  1.034105       1.029233  1.034105   1.024361   \n",
       "amoedo     1.024361  1.263094  1.160780       1.068210  1.053593   1.097442   \n",
       "bolsonaro  1.073082  1.613886  1.219245       1.063337  1.126675   1.185140   \n",
       "boulos     2.524970  5.000000  2.437272       1.570037  1.794153   2.744214   \n",
       "ciro       1.316687  2.822168  1.745432       1.204629  1.277710   1.526188   \n",
       "daciolo    1.014616  1.248477  1.350792       1.004872  1.185140   1.214373   \n",
       "haddad     1.867235  3.591961  1.940317       1.399513  1.360536   1.599269   \n",
       "marina     1.467722  2.320341  1.394641       1.272838  1.292326   1.355664   \n",
       "meirelles  1.019488  1.185140  1.087698       1.029233  1.073082   1.107186   \n",
       "\n",
       "           tecnologia  \n",
       "alckmin      1.034105  \n",
       "alvaro       1.058465  \n",
       "amoedo       1.048721  \n",
       "bolsonaro    1.204629  \n",
       "boulos       2.291108  \n",
       "ciro         1.531060  \n",
       "daciolo      1.087698  \n",
       "haddad       1.852619  \n",
       "marina       1.487211  \n",
       "meirelles    1.029233  "
      ]
     },
     "execution_count": 65,
     "metadata": {},
     "output_type": "execute_result"
    }
   ],
   "source": [
    "df_cand_2"
   ]
  },
  {
   "cell_type": "markdown",
   "metadata": {},
   "source": [
    "Como dito anteriormente, os valores da coluna do ex-candidato Boulos é muito maior que as outra colunas, isto ocasionou um problema no *dataset* inteiro, como visto acima, quase todos os valores de outras colunas ficaram em um valor próximo de 1."
   ]
  }
 ],
 "metadata": {
  "kernelspec": {
   "display_name": "Python 3",
   "language": "python",
   "name": "python3"
  },
  "language_info": {
   "codemirror_mode": {
    "name": "ipython",
    "version": 3
   },
   "file_extension": ".py",
   "mimetype": "text/x-python",
   "name": "python",
   "nbconvert_exporter": "python",
   "pygments_lexer": "ipython3",
   "version": "3.6.6"
  }
 },
 "nbformat": 4,
 "nbformat_minor": 2
}
