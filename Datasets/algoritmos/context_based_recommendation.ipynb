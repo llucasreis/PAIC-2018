{
 "cells": [
  {
   "cell_type": "code",
   "execution_count": 110,
   "metadata": {},
   "outputs": [],
   "source": [
    "from math import *\n",
    "import numpy as np\n",
    "import pandas as pd\n",
    "\n",
    "import candidate_provider as cp\n",
    "import candidate_provider_2 as cp2"
   ]
  },
  {
   "cell_type": "markdown",
   "metadata": {},
   "source": [
    "## Primeiro *Dataset*"
   ]
  },
  {
   "cell_type": "code",
   "execution_count": 80,
   "metadata": {},
   "outputs": [],
   "source": [
    "candidates = ['bolsonaro', 'ciro', 'daciolo','boulos', 'haddad', 'marina']"
   ]
  },
  {
   "cell_type": "code",
   "execution_count": 81,
   "metadata": {},
   "outputs": [],
   "source": [
    "dict_cand = {}\n",
    "for cand in candidates:\n",
    "    dict_cand[cand] = cp2.getCand(cand)"
   ]
  },
  {
   "cell_type": "code",
   "execution_count": 82,
   "metadata": {},
   "outputs": [],
   "source": [
    "df_cand = pd.DataFrame(data=dict_cand)"
   ]
  },
  {
   "cell_type": "code",
   "execution_count": 83,
   "metadata": {},
   "outputs": [
    {
     "data": {
      "text/html": [
       "<div>\n",
       "<style scoped>\n",
       "    .dataframe tbody tr th:only-of-type {\n",
       "        vertical-align: middle;\n",
       "    }\n",
       "\n",
       "    .dataframe tbody tr th {\n",
       "        vertical-align: top;\n",
       "    }\n",
       "\n",
       "    .dataframe thead th {\n",
       "        text-align: right;\n",
       "    }\n",
       "</style>\n",
       "<table border=\"1\" class=\"dataframe\">\n",
       "  <thead>\n",
       "    <tr style=\"text-align: right;\">\n",
       "      <th></th>\n",
       "      <th>bolsonaro</th>\n",
       "      <th>ciro</th>\n",
       "      <th>daciolo</th>\n",
       "      <th>boulos</th>\n",
       "      <th>haddad</th>\n",
       "      <th>marina</th>\n",
       "    </tr>\n",
       "  </thead>\n",
       "  <tbody>\n",
       "    <tr>\n",
       "      <th>cultura</th>\n",
       "      <td>1.298674</td>\n",
       "      <td>0.577953</td>\n",
       "      <td>0.053222</td>\n",
       "      <td>1.929544</td>\n",
       "      <td>0.453759</td>\n",
       "      <td>0.163086</td>\n",
       "    </tr>\n",
       "    <tr>\n",
       "      <th>economia</th>\n",
       "      <td>2.101016</td>\n",
       "      <td>1.572047</td>\n",
       "      <td>0.286808</td>\n",
       "      <td>3.294471</td>\n",
       "      <td>1.045867</td>\n",
       "      <td>0.434171</td>\n",
       "    </tr>\n",
       "    <tr>\n",
       "      <th>educacao</th>\n",
       "      <td>2.217653</td>\n",
       "      <td>0.973766</td>\n",
       "      <td>0.513717</td>\n",
       "      <td>2.777466</td>\n",
       "      <td>0.665708</td>\n",
       "      <td>0.229158</td>\n",
       "    </tr>\n",
       "    <tr>\n",
       "      <th>meio ambiente</th>\n",
       "      <td>0.943479</td>\n",
       "      <td>0.467057</td>\n",
       "      <td>0.062666</td>\n",
       "      <td>1.666706</td>\n",
       "      <td>0.252479</td>\n",
       "      <td>0.100869</td>\n",
       "    </tr>\n",
       "    <tr>\n",
       "      <th>saude</th>\n",
       "      <td>2.067089</td>\n",
       "      <td>0.755462</td>\n",
       "      <td>0.368084</td>\n",
       "      <td>2.350678</td>\n",
       "      <td>0.404181</td>\n",
       "      <td>0.257830</td>\n",
       "    </tr>\n",
       "    <tr>\n",
       "      <th>seguranca</th>\n",
       "      <td>1.916048</td>\n",
       "      <td>0.962723</td>\n",
       "      <td>0.325294</td>\n",
       "      <td>2.757596</td>\n",
       "      <td>0.394746</td>\n",
       "      <td>0.163831</td>\n",
       "    </tr>\n",
       "    <tr>\n",
       "      <th>tecnologia</th>\n",
       "      <td>1.124516</td>\n",
       "      <td>0.702406</td>\n",
       "      <td>0.154583</td>\n",
       "      <td>2.078143</td>\n",
       "      <td>0.443712</td>\n",
       "      <td>0.200668</td>\n",
       "    </tr>\n",
       "  </tbody>\n",
       "</table>\n",
       "</div>"
      ],
      "text/plain": [
       "               bolsonaro      ciro   daciolo    boulos    haddad    marina\n",
       "cultura         1.298674  0.577953  0.053222  1.929544  0.453759  0.163086\n",
       "economia        2.101016  1.572047  0.286808  3.294471  1.045867  0.434171\n",
       "educacao        2.217653  0.973766  0.513717  2.777466  0.665708  0.229158\n",
       "meio ambiente   0.943479  0.467057  0.062666  1.666706  0.252479  0.100869\n",
       "saude           2.067089  0.755462  0.368084  2.350678  0.404181  0.257830\n",
       "seguranca       1.916048  0.962723  0.325294  2.757596  0.394746  0.163831\n",
       "tecnologia      1.124516  0.702406  0.154583  2.078143  0.443712  0.200668"
      ]
     },
     "execution_count": 83,
     "metadata": {},
     "output_type": "execute_result"
    }
   ],
   "source": [
    "df_cand"
   ]
  },
  {
   "cell_type": "code",
   "execution_count": 84,
   "metadata": {},
   "outputs": [
    {
     "data": {
      "text/plain": [
       "cultura          1.298674\n",
       "economia         2.101016\n",
       "educacao         2.217653\n",
       "meio ambiente    0.943479\n",
       "saude            2.067089\n",
       "seguranca        1.916048\n",
       "tecnologia       1.124516\n",
       "Name: bolsonaro, dtype: float64"
      ]
     },
     "execution_count": 84,
     "metadata": {},
     "output_type": "execute_result"
    }
   ],
   "source": [
    "df_cand.bolsonaro"
   ]
  },
  {
   "cell_type": "code",
   "execution_count": 99,
   "metadata": {},
   "outputs": [],
   "source": [
    "users = {}"
   ]
  },
  {
   "cell_type": "code",
   "execution_count": 100,
   "metadata": {},
   "outputs": [],
   "source": [
    "users['Lucas'] = {'cultura': 2, 'economia': 5, 'educacao': 4,\n",
    "                 'meio ambiente': 3, 'saude': 3, 'seguranca': 4, 'tecnologia': 5}"
   ]
  },
  {
   "cell_type": "code",
   "execution_count": 102,
   "metadata": {},
   "outputs": [
    {
     "data": {
      "text/plain": [
       "{'Lucas': {'cultura': 2,\n",
       "  'economia': 5,\n",
       "  'educacao': 4,\n",
       "  'meio ambiente': 3,\n",
       "  'saude': 3,\n",
       "  'seguranca': 4,\n",
       "  'tecnologia': 5}}"
      ]
     },
     "execution_count": 102,
     "metadata": {},
     "output_type": "execute_result"
    }
   ],
   "source": [
    "users"
   ]
  },
  {
   "cell_type": "code",
   "execution_count": 94,
   "metadata": {},
   "outputs": [],
   "source": [
    "def minkowski(rating1, rating2, r = 1):\n",
    "    distance = 0\n",
    "    commonRatings = False\n",
    "    for key in rating1:\n",
    "        if key in rating2:\n",
    "            distance += pow(abs(rating1[key] - rating2[key]), r)\n",
    "            commonRatings = True\n",
    "    if commonRatings:\n",
    "        return pow(distance, 1/r)\n",
    "    else:\n",
    "        return 0"
   ]
  },
  {
   "cell_type": "code",
   "execution_count": 103,
   "metadata": {},
   "outputs": [
    {
     "name": "stdout",
     "output_type": "stream",
     "text": [
      "14.331524583182667\n"
     ]
    }
   ],
   "source": [
    "print(minkowski(dict_cand['bolsonaro'], users['Lucas']))"
   ]
  },
  {
   "cell_type": "code",
   "execution_count": 106,
   "metadata": {},
   "outputs": [],
   "source": [
    "def recommend(userName, candidatos):\n",
    "    \"\"\"creates a sorted list of muics based on their distance to musicName\"\"\"\n",
    "    distances = []\n",
    "    for candidato in candidatos:\n",
    "        distance = minkowski(candidatos[candidato], users[userName])\n",
    "        distances.append((distance, candidato))\n",
    "    # sort based on distance -- closest first\n",
    "    distances.sort()\n",
    "    return distances"
   ]
  },
  {
   "cell_type": "code",
   "execution_count": 108,
   "metadata": {},
   "outputs": [
    {
     "name": "stdout",
     "output_type": "stream",
     "text": [
      "[(9.14539660249778, 'boulos'), (14.331524583182667, 'bolsonaro'), (19.988585570821922, 'ciro'), (22.33954891486003, 'haddad'), (24.235626887469678, 'daciolo'), (24.450386238521997, 'marina')]\n"
     ]
    }
   ],
   "source": [
    "print(recommend(\"Lucas\", dict_cand))"
   ]
  },
  {
   "cell_type": "markdown",
   "metadata": {},
   "source": [
    "## Segundo *Dataset*"
   ]
  },
  {
   "cell_type": "code",
   "execution_count": 111,
   "metadata": {},
   "outputs": [],
   "source": [
    "candidates = ['alckmin', 'alvaro', 'amoedo', 'bolsonaro', 'boulos', 'ciro', 'daciolo', 'haddad', 'marina', 'meirelles']"
   ]
  },
  {
   "cell_type": "code",
   "execution_count": 112,
   "metadata": {},
   "outputs": [],
   "source": [
    "dict_cand_2 = {}\n",
    "for cand in candidates:\n",
    "    dict_cand_2[cand] = cp.count_words_from(cand)"
   ]
  },
  {
   "cell_type": "code",
   "execution_count": 113,
   "metadata": {},
   "outputs": [],
   "source": [
    "df_cand_2 = pd.DataFrame(data=dict_cand_2)"
   ]
  },
  {
   "cell_type": "code",
   "execution_count": 114,
   "metadata": {},
   "outputs": [
    {
     "data": {
      "text/html": [
       "<div>\n",
       "<style scoped>\n",
       "    .dataframe tbody tr th:only-of-type {\n",
       "        vertical-align: middle;\n",
       "    }\n",
       "\n",
       "    .dataframe tbody tr th {\n",
       "        vertical-align: top;\n",
       "    }\n",
       "\n",
       "    .dataframe thead th {\n",
       "        text-align: right;\n",
       "    }\n",
       "</style>\n",
       "<table border=\"1\" class=\"dataframe\">\n",
       "  <thead>\n",
       "    <tr style=\"text-align: right;\">\n",
       "      <th></th>\n",
       "      <th>alckmin</th>\n",
       "      <th>alvaro</th>\n",
       "      <th>amoedo</th>\n",
       "      <th>bolsonaro</th>\n",
       "      <th>boulos</th>\n",
       "      <th>ciro</th>\n",
       "      <th>daciolo</th>\n",
       "      <th>haddad</th>\n",
       "      <th>marina</th>\n",
       "      <th>meirelles</th>\n",
       "    </tr>\n",
       "  </thead>\n",
       "  <tbody>\n",
       "    <tr>\n",
       "      <th>cultura</th>\n",
       "      <td>8</td>\n",
       "      <td>33</td>\n",
       "      <td>7</td>\n",
       "      <td>17</td>\n",
       "      <td>315</td>\n",
       "      <td>67</td>\n",
       "      <td>5</td>\n",
       "      <td>180</td>\n",
       "      <td>98</td>\n",
       "      <td>6</td>\n",
       "    </tr>\n",
       "    <tr>\n",
       "      <th>economia</th>\n",
       "      <td>30</td>\n",
       "      <td>55</td>\n",
       "      <td>56</td>\n",
       "      <td>128</td>\n",
       "      <td>823</td>\n",
       "      <td>376</td>\n",
       "      <td>53</td>\n",
       "      <td>534</td>\n",
       "      <td>273</td>\n",
       "      <td>40</td>\n",
       "    </tr>\n",
       "    <tr>\n",
       "      <th>educacao</th>\n",
       "      <td>11</td>\n",
       "      <td>9</td>\n",
       "      <td>35</td>\n",
       "      <td>47</td>\n",
       "      <td>297</td>\n",
       "      <td>155</td>\n",
       "      <td>74</td>\n",
       "      <td>195</td>\n",
       "      <td>83</td>\n",
       "      <td>20</td>\n",
       "    </tr>\n",
       "    <tr>\n",
       "      <th>meio ambiente</th>\n",
       "      <td>2</td>\n",
       "      <td>8</td>\n",
       "      <td>16</td>\n",
       "      <td>15</td>\n",
       "      <td>119</td>\n",
       "      <td>44</td>\n",
       "      <td>3</td>\n",
       "      <td>84</td>\n",
       "      <td>58</td>\n",
       "      <td>8</td>\n",
       "    </tr>\n",
       "    <tr>\n",
       "      <th>saude</th>\n",
       "      <td>6</td>\n",
       "      <td>9</td>\n",
       "      <td>13</td>\n",
       "      <td>28</td>\n",
       "      <td>165</td>\n",
       "      <td>59</td>\n",
       "      <td>40</td>\n",
       "      <td>76</td>\n",
       "      <td>62</td>\n",
       "      <td>17</td>\n",
       "    </tr>\n",
       "    <tr>\n",
       "      <th>seguranca</th>\n",
       "      <td>14</td>\n",
       "      <td>7</td>\n",
       "      <td>22</td>\n",
       "      <td>40</td>\n",
       "      <td>360</td>\n",
       "      <td>110</td>\n",
       "      <td>46</td>\n",
       "      <td>125</td>\n",
       "      <td>75</td>\n",
       "      <td>24</td>\n",
       "    </tr>\n",
       "    <tr>\n",
       "      <th>tecnologia</th>\n",
       "      <td>9</td>\n",
       "      <td>14</td>\n",
       "      <td>12</td>\n",
       "      <td>44</td>\n",
       "      <td>267</td>\n",
       "      <td>111</td>\n",
       "      <td>20</td>\n",
       "      <td>177</td>\n",
       "      <td>102</td>\n",
       "      <td>8</td>\n",
       "    </tr>\n",
       "  </tbody>\n",
       "</table>\n",
       "</div>"
      ],
      "text/plain": [
       "               alckmin  alvaro  amoedo  bolsonaro  boulos  ciro  daciolo  \\\n",
       "cultura              8      33       7         17     315    67        5   \n",
       "economia            30      55      56        128     823   376       53   \n",
       "educacao            11       9      35         47     297   155       74   \n",
       "meio ambiente        2       8      16         15     119    44        3   \n",
       "saude                6       9      13         28     165    59       40   \n",
       "seguranca           14       7      22         40     360   110       46   \n",
       "tecnologia           9      14      12         44     267   111       20   \n",
       "\n",
       "               haddad  marina  meirelles  \n",
       "cultura           180      98          6  \n",
       "economia          534     273         40  \n",
       "educacao          195      83         20  \n",
       "meio ambiente      84      58          8  \n",
       "saude              76      62         17  \n",
       "seguranca         125      75         24  \n",
       "tecnologia        177     102          8  "
      ]
     },
     "execution_count": 114,
     "metadata": {},
     "output_type": "execute_result"
    }
   ],
   "source": [
    "df_cand_2"
   ]
  },
  {
   "cell_type": "code",
   "execution_count": null,
   "metadata": {},
   "outputs": [],
   "source": []
  }
 ],
 "metadata": {
  "kernelspec": {
   "display_name": "Python 3",
   "language": "python",
   "name": "python3"
  },
  "language_info": {
   "codemirror_mode": {
    "name": "ipython",
    "version": 3
   },
   "file_extension": ".py",
   "mimetype": "text/x-python",
   "name": "python",
   "nbconvert_exporter": "python",
   "pygments_lexer": "ipython3",
   "version": "3.6.6"
  }
 },
 "nbformat": 4,
 "nbformat_minor": 2
}
