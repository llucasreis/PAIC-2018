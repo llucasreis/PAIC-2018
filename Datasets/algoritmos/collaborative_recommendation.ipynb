{
 "cells": [
  {
   "cell_type": "markdown",
   "metadata": {},
   "source": [
    "# Recomendação por Filtragem Colaborativa"
   ]
  },
  {
   "cell_type": "markdown",
   "metadata": {},
   "source": [
    "Este *notebook* realiza recomendações de ex-candidatos à presidência para usuários, através da filtragem colaborativa."
   ]
  },
  {
   "cell_type": "markdown",
   "metadata": {},
   "source": [
    "O *dataset* foi obtido à partir de um formulário criado no *Google Forms*, onde é solicitado do usuário sua avaliação perante aos ex-candidatos, esta avaliação está no intervalo de 1 a 5.\n",
    "\n",
    "Caso deseje contribuir para o *dataset*, basta preencher o formulário neste [link](https://goo.gl/forms/Cp2glphoDnLQZJof2)."
   ]
  },
  {
   "cell_type": "markdown",
   "metadata": {},
   "source": [
    "## Importação das Bibliotetcas"
   ]
  },
  {
   "cell_type": "code",
   "execution_count": 1,
   "metadata": {},
   "outputs": [],
   "source": [
    "from math import *\n",
    "import numpy as np\n",
    "import pandas as pd"
   ]
  },
  {
   "cell_type": "markdown",
   "metadata": {},
   "source": [
    "# Dataset"
   ]
  },
  {
   "cell_type": "markdown",
   "metadata": {},
   "source": [
    "Inicialmente, precisa-se realizar a leitura do *dataset* e realizar alguns tratamentos de dados."
   ]
  },
  {
   "cell_type": "markdown",
   "metadata": {},
   "source": [
    "## Pré-Processamento de Dados"
   ]
  },
  {
   "cell_type": "code",
   "execution_count": 4,
   "metadata": {},
   "outputs": [],
   "source": [
    "df = pd.read_csv('../dados-pesquisa/avaliacao.csv')"
   ]
  },
  {
   "cell_type": "markdown",
   "metadata": {},
   "source": [
    "A coluna `Carimbo de data/hora` não será necessário, por isso será removida."
   ]
  },
  {
   "cell_type": "code",
   "execution_count": 6,
   "metadata": {},
   "outputs": [],
   "source": [
    "df.drop(['Timestamp'],axis=1,inplace=True)"
   ]
  },
  {
   "cell_type": "markdown",
   "metadata": {},
   "source": [
    "Os valores presentes no *dataset* possuem o tipo *string*, assim é necessário transformá-los para o tipo *float*."
   ]
  },
  {
   "cell_type": "code",
   "execution_count": 7,
   "metadata": {},
   "outputs": [],
   "source": [
    "df = df.astype(float)\n",
    "df.index = range(1,len(df)+1)"
   ]
  },
  {
   "cell_type": "markdown",
   "metadata": {},
   "source": [
    "A seguir o *dataset* após estas modificações iniciais."
   ]
  },
  {
   "cell_type": "code",
   "execution_count": 8,
   "metadata": {},
   "outputs": [
    {
     "data": {
      "text/html": [
       "<div>\n",
       "<style scoped>\n",
       "    .dataframe tbody tr th:only-of-type {\n",
       "        vertical-align: middle;\n",
       "    }\n",
       "\n",
       "    .dataframe tbody tr th {\n",
       "        vertical-align: top;\n",
       "    }\n",
       "\n",
       "    .dataframe thead th {\n",
       "        text-align: right;\n",
       "    }\n",
       "</style>\n",
       "<table border=\"1\" class=\"dataframe\">\n",
       "  <thead>\n",
       "    <tr style=\"text-align: right;\">\n",
       "      <th></th>\n",
       "      <th>Geraldo Alckmin</th>\n",
       "      <th>João Amoêdo</th>\n",
       "      <th>Jair Bolsonaro</th>\n",
       "      <th>Guilherme Boulos</th>\n",
       "      <th>Ciro Gomes</th>\n",
       "      <th>Marina Silva</th>\n",
       "      <th>Fernando Haddad</th>\n",
       "      <th>Cabo Daciolo</th>\n",
       "    </tr>\n",
       "  </thead>\n",
       "  <tbody>\n",
       "    <tr>\n",
       "      <th>1</th>\n",
       "      <td>1.0</td>\n",
       "      <td>3.0</td>\n",
       "      <td>1.0</td>\n",
       "      <td>3.0</td>\n",
       "      <td>3.0</td>\n",
       "      <td>3.0</td>\n",
       "      <td>4.0</td>\n",
       "      <td>3.0</td>\n",
       "    </tr>\n",
       "    <tr>\n",
       "      <th>2</th>\n",
       "      <td>1.0</td>\n",
       "      <td>3.0</td>\n",
       "      <td>1.0</td>\n",
       "      <td>1.0</td>\n",
       "      <td>3.0</td>\n",
       "      <td>3.0</td>\n",
       "      <td>2.0</td>\n",
       "      <td>1.0</td>\n",
       "    </tr>\n",
       "    <tr>\n",
       "      <th>3</th>\n",
       "      <td>2.0</td>\n",
       "      <td>2.0</td>\n",
       "      <td>1.0</td>\n",
       "      <td>2.0</td>\n",
       "      <td>2.0</td>\n",
       "      <td>3.0</td>\n",
       "      <td>2.0</td>\n",
       "      <td>2.0</td>\n",
       "    </tr>\n",
       "    <tr>\n",
       "      <th>4</th>\n",
       "      <td>2.0</td>\n",
       "      <td>1.0</td>\n",
       "      <td>1.0</td>\n",
       "      <td>5.0</td>\n",
       "      <td>5.0</td>\n",
       "      <td>4.0</td>\n",
       "      <td>5.0</td>\n",
       "      <td>5.0</td>\n",
       "    </tr>\n",
       "    <tr>\n",
       "      <th>5</th>\n",
       "      <td>2.0</td>\n",
       "      <td>5.0</td>\n",
       "      <td>2.0</td>\n",
       "      <td>1.0</td>\n",
       "      <td>2.0</td>\n",
       "      <td>3.0</td>\n",
       "      <td>1.0</td>\n",
       "      <td>1.0</td>\n",
       "    </tr>\n",
       "  </tbody>\n",
       "</table>\n",
       "</div>"
      ],
      "text/plain": [
       "   Geraldo Alckmin  João Amoêdo  Jair Bolsonaro  Guilherme Boulos  Ciro Gomes  \\\n",
       "1              1.0          3.0             1.0               3.0         3.0   \n",
       "2              1.0          3.0             1.0               1.0         3.0   \n",
       "3              2.0          2.0             1.0               2.0         2.0   \n",
       "4              2.0          1.0             1.0               5.0         5.0   \n",
       "5              2.0          5.0             2.0               1.0         2.0   \n",
       "\n",
       "   Marina Silva  Fernando Haddad  Cabo Daciolo  \n",
       "1           3.0              4.0           3.0  \n",
       "2           3.0              2.0           1.0  \n",
       "3           3.0              2.0           2.0  \n",
       "4           4.0              5.0           5.0  \n",
       "5           3.0              1.0           1.0  "
      ]
     },
     "execution_count": 8,
     "metadata": {},
     "output_type": "execute_result"
    }
   ],
   "source": [
    "df.head()"
   ]
  },
  {
   "cell_type": "code",
   "execution_count": 9,
   "metadata": {},
   "outputs": [
    {
     "name": "stdout",
     "output_type": "stream",
     "text": [
      "Atualmente o dataset possui 106 amostras\n"
     ]
    }
   ],
   "source": [
    "print(f'Atualmente o dataset possui {len(df)} amostras')"
   ]
  },
  {
   "cell_type": "markdown",
   "metadata": {},
   "source": [
    "# Novo *Dataset* com valores nulos"
   ]
  },
  {
   "cell_type": "markdown",
   "metadata": {},
   "source": [
    "Como pode ser observado, o *dataset* não possui nenhum dado faltoso, ou seja, todos os candidatos foram avaliados. Para realizar a recomendação, precisa-se ter algum dado faltoso (do tipo `NaN`) e assim o algoritmo recomendar para  o usuário tal candidato."
   ]
  },
  {
   "cell_type": "markdown",
   "metadata": {},
   "source": [
    "Para realizar esta operação, criou-se um novo *DataFrame* que receberá o anterior com os dados faltosos, isto é feito com o comando abaixo. Dado o tamanho total do *dataset* (`df.shape`), serão selecionados elementos de forma aleatória que serão \"mascarados\" para o tipo `NaN`. O total de elementos corresponde à menos de 40% do *dataset*."
   ]
  },
  {
   "cell_type": "markdown",
   "metadata": {},
   "source": [
    "**Obs.:** A cada nova execução os valores mudam, justamente pela função selecionar aleatoriamente."
   ]
  },
  {
   "cell_type": "code",
   "execution_count": 10,
   "metadata": {},
   "outputs": [],
   "source": [
    "new_df = df.mask(np.random.random(df.shape) < .4)"
   ]
  },
  {
   "cell_type": "markdown",
   "metadata": {},
   "source": [
    "Para tornar a recomendação mais legível, será criado um novo índice para o *DataFrame* que responderá ao usuário. Assim durante a recomendaçao será passado como paramêtro `eleitor1` ou `eleitor2`, ao invés de apenas um número."
   ]
  },
  {
   "cell_type": "code",
   "execution_count": 11,
   "metadata": {},
   "outputs": [],
   "source": [
    "new_df.insert(loc=0, column='eleitor', value= ['eleitor' + str(i) for i in range(1,len(df)+1)])"
   ]
  },
  {
   "cell_type": "code",
   "execution_count": 12,
   "metadata": {},
   "outputs": [],
   "source": [
    "new_df.index = new_df.eleitor\n",
    "new_df.drop(['eleitor'],axis=1,inplace=True)"
   ]
  },
  {
   "cell_type": "markdown",
   "metadata": {},
   "source": [
    "A seguir o novo *dataset* com dados faltosos e índice correspondendo ao eleitor."
   ]
  },
  {
   "cell_type": "code",
   "execution_count": 13,
   "metadata": {},
   "outputs": [
    {
     "data": {
      "text/html": [
       "<div>\n",
       "<style scoped>\n",
       "    .dataframe tbody tr th:only-of-type {\n",
       "        vertical-align: middle;\n",
       "    }\n",
       "\n",
       "    .dataframe tbody tr th {\n",
       "        vertical-align: top;\n",
       "    }\n",
       "\n",
       "    .dataframe thead th {\n",
       "        text-align: right;\n",
       "    }\n",
       "</style>\n",
       "<table border=\"1\" class=\"dataframe\">\n",
       "  <thead>\n",
       "    <tr style=\"text-align: right;\">\n",
       "      <th></th>\n",
       "      <th>Geraldo Alckmin</th>\n",
       "      <th>João Amoêdo</th>\n",
       "      <th>Jair Bolsonaro</th>\n",
       "      <th>Guilherme Boulos</th>\n",
       "      <th>Ciro Gomes</th>\n",
       "      <th>Marina Silva</th>\n",
       "      <th>Fernando Haddad</th>\n",
       "      <th>Cabo Daciolo</th>\n",
       "    </tr>\n",
       "    <tr>\n",
       "      <th>eleitor</th>\n",
       "      <th></th>\n",
       "      <th></th>\n",
       "      <th></th>\n",
       "      <th></th>\n",
       "      <th></th>\n",
       "      <th></th>\n",
       "      <th></th>\n",
       "      <th></th>\n",
       "    </tr>\n",
       "  </thead>\n",
       "  <tbody>\n",
       "    <tr>\n",
       "      <th>eleitor1</th>\n",
       "      <td>1.0</td>\n",
       "      <td>3.0</td>\n",
       "      <td>1.0</td>\n",
       "      <td>NaN</td>\n",
       "      <td>3.0</td>\n",
       "      <td>3.0</td>\n",
       "      <td>4.0</td>\n",
       "      <td>NaN</td>\n",
       "    </tr>\n",
       "    <tr>\n",
       "      <th>eleitor2</th>\n",
       "      <td>1.0</td>\n",
       "      <td>NaN</td>\n",
       "      <td>NaN</td>\n",
       "      <td>NaN</td>\n",
       "      <td>NaN</td>\n",
       "      <td>3.0</td>\n",
       "      <td>2.0</td>\n",
       "      <td>NaN</td>\n",
       "    </tr>\n",
       "    <tr>\n",
       "      <th>eleitor3</th>\n",
       "      <td>2.0</td>\n",
       "      <td>2.0</td>\n",
       "      <td>1.0</td>\n",
       "      <td>NaN</td>\n",
       "      <td>NaN</td>\n",
       "      <td>3.0</td>\n",
       "      <td>NaN</td>\n",
       "      <td>2.0</td>\n",
       "    </tr>\n",
       "    <tr>\n",
       "      <th>eleitor4</th>\n",
       "      <td>2.0</td>\n",
       "      <td>NaN</td>\n",
       "      <td>1.0</td>\n",
       "      <td>NaN</td>\n",
       "      <td>5.0</td>\n",
       "      <td>4.0</td>\n",
       "      <td>5.0</td>\n",
       "      <td>NaN</td>\n",
       "    </tr>\n",
       "    <tr>\n",
       "      <th>eleitor5</th>\n",
       "      <td>NaN</td>\n",
       "      <td>5.0</td>\n",
       "      <td>NaN</td>\n",
       "      <td>NaN</td>\n",
       "      <td>2.0</td>\n",
       "      <td>3.0</td>\n",
       "      <td>NaN</td>\n",
       "      <td>1.0</td>\n",
       "    </tr>\n",
       "  </tbody>\n",
       "</table>\n",
       "</div>"
      ],
      "text/plain": [
       "          Geraldo Alckmin  João Amoêdo  Jair Bolsonaro  Guilherme Boulos  \\\n",
       "eleitor                                                                    \n",
       "eleitor1              1.0          3.0             1.0               NaN   \n",
       "eleitor2              1.0          NaN             NaN               NaN   \n",
       "eleitor3              2.0          2.0             1.0               NaN   \n",
       "eleitor4              2.0          NaN             1.0               NaN   \n",
       "eleitor5              NaN          5.0             NaN               NaN   \n",
       "\n",
       "          Ciro Gomes  Marina Silva  Fernando Haddad  Cabo Daciolo  \n",
       "eleitor                                                            \n",
       "eleitor1         3.0           3.0              4.0           NaN  \n",
       "eleitor2         NaN           3.0              2.0           NaN  \n",
       "eleitor3         NaN           3.0              NaN           2.0  \n",
       "eleitor4         5.0           4.0              5.0           NaN  \n",
       "eleitor5         2.0           3.0              NaN           1.0  "
      ]
     },
     "execution_count": 13,
     "metadata": {},
     "output_type": "execute_result"
    }
   ],
   "source": [
    "new_df.head()"
   ]
  },
  {
   "cell_type": "markdown",
   "metadata": {},
   "source": [
    "# Implementação da Filtragem Colaborativa"
   ]
  },
  {
   "cell_type": "markdown",
   "metadata": {},
   "source": [
    "**Obs.:** Para todas as seguintes funções, precisou-se realizar uma alteração do algoritmo padrão. Diferente de um dicionário, cada eleitor no *DataFrame* possui a coluna do candidato, mesmo que não tenha valor para ele, assim nas condições do `if` são verificados se o valor da coluna é `isnan` ou `not isnan`."
   ]
  },
  {
   "cell_type": "markdown",
   "metadata": {},
   "source": [
    "## Distância de *Minkowski*"
   ]
  },
  {
   "cell_type": "code",
   "execution_count": 14,
   "metadata": {},
   "outputs": [],
   "source": [
    "def minkowski(rating1, rating2, r = 1):\n",
    "    distance = 0\n",
    "    commonRatings = False\n",
    "    for candidate in rating1.keys():\n",
    "        \n",
    "        if not isnan(rating1[candidate]) and not isnan(rating2[candidate]):\n",
    "            \n",
    "            distance += pow(abs(rating1[candidate] - rating2[candidate]), r)\n",
    "            commonRatings = True\n",
    "    \n",
    "    if commonRatings:\n",
    "        return pow(distance, 1/r)\n",
    "    else:\n",
    "        return float('Inf')"
   ]
  },
  {
   "cell_type": "markdown",
   "metadata": {},
   "source": [
    "Exemplo de utilização da função."
   ]
  },
  {
   "cell_type": "code",
   "execution_count": 15,
   "metadata": {},
   "outputs": [
    {
     "name": "stdout",
     "output_type": "stream",
     "text": [
      "2.0\n"
     ]
    }
   ],
   "source": [
    "print(minkowski(new_df.loc[\"eleitor1\"], new_df.loc[\"eleitor2\"]))"
   ]
  },
  {
   "cell_type": "markdown",
   "metadata": {},
   "source": [
    "Para facilitar as próximas funções, criou-se uma lista que possui os eleitores, ou seja, o índice do *DataFrame*."
   ]
  },
  {
   "cell_type": "code",
   "execution_count": 16,
   "metadata": {},
   "outputs": [],
   "source": [
    "voters = ['eleitor' + str(i) for i in range(1,len(df)+1)]"
   ]
  },
  {
   "cell_type": "markdown",
   "metadata": {},
   "source": [
    "# Vizinhos mais próximos"
   ]
  },
  {
   "cell_type": "code",
   "execution_count": 17,
   "metadata": {},
   "outputs": [],
   "source": [
    "def neighbor(votername):\n",
    "    distances = []\n",
    "    for voter in voters:\n",
    "        if voter != votername:\n",
    "            distance = minkowski(new_df.loc[voter], new_df.loc[votername])\n",
    "\n",
    "            distances.append((distance, voter))\n",
    "            \n",
    "    distances.sort()\n",
    "    return distances"
   ]
  },
  {
   "cell_type": "markdown",
   "metadata": {},
   "source": [
    "Exemplo de utilização da função."
   ]
  },
  {
   "cell_type": "code",
   "execution_count": 18,
   "metadata": {},
   "outputs": [
    {
     "name": "stdout",
     "output_type": "stream",
     "text": [
      "[(0.0, 'eleitor102'), (0.0, 'eleitor11'), (0.0, 'eleitor21'), (0.0, 'eleitor31'), (0.0, 'eleitor95'), (1.0, 'eleitor101'), (1.0, 'eleitor17'), (1.0, 'eleitor32'), (1.0, 'eleitor48'), (1.0, 'eleitor54'), (1.0, 'eleitor85'), (2.0, 'eleitor103'), (2.0, 'eleitor2'), (2.0, 'eleitor22'), (2.0, 'eleitor3'), (2.0, 'eleitor30'), (2.0, 'eleitor36'), (2.0, 'eleitor40'), (2.0, 'eleitor59'), (2.0, 'eleitor63'), (2.0, 'eleitor65'), (2.0, 'eleitor66'), (2.0, 'eleitor67'), (2.0, 'eleitor83'), (3.0, 'eleitor105'), (3.0, 'eleitor39'), (3.0, 'eleitor42'), (3.0, 'eleitor44'), (3.0, 'eleitor45'), (3.0, 'eleitor5'), (3.0, 'eleitor56'), (3.0, 'eleitor75'), (3.0, 'eleitor77'), (3.0, 'eleitor80'), (3.0, 'eleitor86'), (3.0, 'eleitor89'), (3.0, 'eleitor93'), (3.0, 'eleitor94'), (4.0, 'eleitor104'), (4.0, 'eleitor13'), (4.0, 'eleitor14'), (4.0, 'eleitor16'), (4.0, 'eleitor18'), (4.0, 'eleitor20'), (4.0, 'eleitor38'), (4.0, 'eleitor46'), (4.0, 'eleitor50'), (4.0, 'eleitor57'), (4.0, 'eleitor58'), (4.0, 'eleitor6'), (4.0, 'eleitor7'), (4.0, 'eleitor70'), (4.0, 'eleitor74'), (4.0, 'eleitor78'), (4.0, 'eleitor8'), (4.0, 'eleitor81'), (4.0, 'eleitor87'), (4.0, 'eleitor88'), (5.0, 'eleitor100'), (5.0, 'eleitor12'), (5.0, 'eleitor19'), (5.0, 'eleitor27'), (5.0, 'eleitor35'), (5.0, 'eleitor4'), (5.0, 'eleitor51'), (5.0, 'eleitor60'), (5.0, 'eleitor79'), (5.0, 'eleitor82'), (5.0, 'eleitor92'), (5.0, 'eleitor96'), (5.0, 'eleitor98'), (6.0, 'eleitor29'), (6.0, 'eleitor33'), (6.0, 'eleitor43'), (6.0, 'eleitor49'), (6.0, 'eleitor53'), (6.0, 'eleitor61'), (6.0, 'eleitor62'), (6.0, 'eleitor72'), (6.0, 'eleitor84'), (6.0, 'eleitor9'), (6.0, 'eleitor90'), (6.0, 'eleitor97'), (7.0, 'eleitor10'), (7.0, 'eleitor106'), (7.0, 'eleitor15'), (7.0, 'eleitor24'), (7.0, 'eleitor26'), (7.0, 'eleitor28'), (7.0, 'eleitor37'), (7.0, 'eleitor41'), (7.0, 'eleitor47'), (7.0, 'eleitor55'), (7.0, 'eleitor68'), (7.0, 'eleitor71'), (7.0, 'eleitor91'), (7.0, 'eleitor99'), (8.0, 'eleitor76'), (9.0, 'eleitor34'), (9.0, 'eleitor64'), (10.0, 'eleitor25'), (10.0, 'eleitor69'), (10.0, 'eleitor73'), (11.0, 'eleitor23'), (11.0, 'eleitor52')]\n"
     ]
    }
   ],
   "source": [
    "print(neighbor(\"eleitor1\"))"
   ]
  },
  {
   "cell_type": "markdown",
   "metadata": {},
   "source": [
    "## Recomendação\n",
    "\n",
    "Pode acontecer de a lista `recommendations` retornar nenhum valor, isto pode acontecer caso o eleitor e seu vizinho mais próximo possui apenas um valor válido e o resto `NaN` por exemplo. Para evitar este resultado, adicionou-se uma nova condição que caso `len(recommendations) == 0`, o algoritmo será chamado recursivamente e tentará realizar a recomendação com o próximo vizinho mais próximo."
   ]
  },
  {
   "cell_type": "code",
   "execution_count": 21,
   "metadata": {},
   "outputs": [],
   "source": [
    "def recommend(votername, nearestNeighbor = 0):\n",
    "    i = nearestNeighbor\n",
    "    \n",
    "    nearest = neighbor(votername)[i][1]\n",
    "    \n",
    "    recommendations = []\n",
    "    \n",
    "    neighborRatings = new_df.loc[nearest]\n",
    "    voterRatings = new_df.loc[votername]\n",
    "    \n",
    "    for candidate in neighborRatings.keys():\n",
    "        if isnan(voterRatings[candidate]) and not isnan(neighborRatings[candidate]):\n",
    "            \n",
    "            recommendations.append((candidate, neighborRatings[candidate]))\n",
    "    \n",
    "    while len(recommendations) == 0:\n",
    "        i+=1\n",
    "        recommendations = recommend(votername,i)\n",
    "    \n",
    "    return sorted(recommendations,\n",
    "        key=lambda candidateTuple: candidateTuple[1],\n",
    "        reverse = True)"
   ]
  },
  {
   "cell_type": "markdown",
   "metadata": {},
   "source": [
    "Exemplo de utilização da função."
   ]
  },
  {
   "cell_type": "code",
   "execution_count": 22,
   "metadata": {},
   "outputs": [
    {
     "name": "stdout",
     "output_type": "stream",
     "text": [
      "[('Guilherme Boulos', 4.0), ('Cabo Daciolo', 1.0)]\n"
     ]
    }
   ],
   "source": [
    "print(recommend(\"eleitor1\"))"
   ]
  },
  {
   "cell_type": "code",
   "execution_count": 23,
   "metadata": {},
   "outputs": [
    {
     "name": "stdout",
     "output_type": "stream",
     "text": [
      "[('João Amoêdo', 3.0), ('Jair Bolsonaro', 1.0)]\n"
     ]
    }
   ],
   "source": [
    "print(recommend(\"eleitor2\"))"
   ]
  },
  {
   "cell_type": "code",
   "execution_count": 24,
   "metadata": {},
   "outputs": [
    {
     "name": "stdout",
     "output_type": "stream",
     "text": [
      "[('Ciro Gomes', 2.0), ('Fernando Haddad', 1.0)]\n"
     ]
    }
   ],
   "source": [
    "print(recommend(\"eleitor3\"))"
   ]
  },
  {
   "cell_type": "code",
   "execution_count": 25,
   "metadata": {},
   "outputs": [
    {
     "name": "stdout",
     "output_type": "stream",
     "text": [
      "[('Guilherme Boulos', 3.0), ('João Amoêdo', 2.0)]\n"
     ]
    }
   ],
   "source": [
    "print(recommend(\"eleitor4\"))"
   ]
  },
  {
   "cell_type": "code",
   "execution_count": 26,
   "metadata": {},
   "outputs": [
    {
     "name": "stdout",
     "output_type": "stream",
     "text": [
      "[('Fernando Haddad', 3.0), ('Jair Bolsonaro', 1.0)]\n"
     ]
    }
   ],
   "source": [
    "print(recommend(\"eleitor5\"))"
   ]
  },
  {
   "cell_type": "code",
   "execution_count": 27,
   "metadata": {},
   "outputs": [
    {
     "data": {
      "text/html": [
       "<div>\n",
       "<style scoped>\n",
       "    .dataframe tbody tr th:only-of-type {\n",
       "        vertical-align: middle;\n",
       "    }\n",
       "\n",
       "    .dataframe tbody tr th {\n",
       "        vertical-align: top;\n",
       "    }\n",
       "\n",
       "    .dataframe thead th {\n",
       "        text-align: right;\n",
       "    }\n",
       "</style>\n",
       "<table border=\"1\" class=\"dataframe\">\n",
       "  <thead>\n",
       "    <tr style=\"text-align: right;\">\n",
       "      <th></th>\n",
       "      <th>Geraldo Alckmin</th>\n",
       "      <th>João Amoêdo</th>\n",
       "      <th>Jair Bolsonaro</th>\n",
       "      <th>Guilherme Boulos</th>\n",
       "      <th>Ciro Gomes</th>\n",
       "      <th>Marina Silva</th>\n",
       "      <th>Fernando Haddad</th>\n",
       "      <th>Cabo Daciolo</th>\n",
       "    </tr>\n",
       "    <tr>\n",
       "      <th>eleitor</th>\n",
       "      <th></th>\n",
       "      <th></th>\n",
       "      <th></th>\n",
       "      <th></th>\n",
       "      <th></th>\n",
       "      <th></th>\n",
       "      <th></th>\n",
       "      <th></th>\n",
       "    </tr>\n",
       "  </thead>\n",
       "  <tbody>\n",
       "    <tr>\n",
       "      <th>eleitor1</th>\n",
       "      <td>1.0</td>\n",
       "      <td>3.0</td>\n",
       "      <td>1.0</td>\n",
       "      <td>NaN</td>\n",
       "      <td>3.0</td>\n",
       "      <td>3.0</td>\n",
       "      <td>4.0</td>\n",
       "      <td>NaN</td>\n",
       "    </tr>\n",
       "    <tr>\n",
       "      <th>eleitor2</th>\n",
       "      <td>1.0</td>\n",
       "      <td>NaN</td>\n",
       "      <td>NaN</td>\n",
       "      <td>NaN</td>\n",
       "      <td>NaN</td>\n",
       "      <td>3.0</td>\n",
       "      <td>2.0</td>\n",
       "      <td>NaN</td>\n",
       "    </tr>\n",
       "    <tr>\n",
       "      <th>eleitor3</th>\n",
       "      <td>2.0</td>\n",
       "      <td>2.0</td>\n",
       "      <td>1.0</td>\n",
       "      <td>NaN</td>\n",
       "      <td>NaN</td>\n",
       "      <td>3.0</td>\n",
       "      <td>NaN</td>\n",
       "      <td>2.0</td>\n",
       "    </tr>\n",
       "    <tr>\n",
       "      <th>eleitor4</th>\n",
       "      <td>2.0</td>\n",
       "      <td>NaN</td>\n",
       "      <td>1.0</td>\n",
       "      <td>NaN</td>\n",
       "      <td>5.0</td>\n",
       "      <td>4.0</td>\n",
       "      <td>5.0</td>\n",
       "      <td>NaN</td>\n",
       "    </tr>\n",
       "    <tr>\n",
       "      <th>eleitor5</th>\n",
       "      <td>NaN</td>\n",
       "      <td>5.0</td>\n",
       "      <td>NaN</td>\n",
       "      <td>NaN</td>\n",
       "      <td>2.0</td>\n",
       "      <td>3.0</td>\n",
       "      <td>NaN</td>\n",
       "      <td>1.0</td>\n",
       "    </tr>\n",
       "  </tbody>\n",
       "</table>\n",
       "</div>"
      ],
      "text/plain": [
       "          Geraldo Alckmin  João Amoêdo  Jair Bolsonaro  Guilherme Boulos  \\\n",
       "eleitor                                                                    \n",
       "eleitor1              1.0          3.0             1.0               NaN   \n",
       "eleitor2              1.0          NaN             NaN               NaN   \n",
       "eleitor3              2.0          2.0             1.0               NaN   \n",
       "eleitor4              2.0          NaN             1.0               NaN   \n",
       "eleitor5              NaN          5.0             NaN               NaN   \n",
       "\n",
       "          Ciro Gomes  Marina Silva  Fernando Haddad  Cabo Daciolo  \n",
       "eleitor                                                            \n",
       "eleitor1         3.0           3.0              4.0           NaN  \n",
       "eleitor2         NaN           3.0              2.0           NaN  \n",
       "eleitor3         NaN           3.0              NaN           2.0  \n",
       "eleitor4         5.0           4.0              5.0           NaN  \n",
       "eleitor5         2.0           3.0              NaN           1.0  "
      ]
     },
     "execution_count": 27,
     "metadata": {},
     "output_type": "execute_result"
    }
   ],
   "source": [
    "new_df.head()"
   ]
  },
  {
   "cell_type": "code",
   "execution_count": 41,
   "metadata": {},
   "outputs": [
    {
     "data": {
      "text/html": [
       "<div>\n",
       "<style scoped>\n",
       "    .dataframe tbody tr th:only-of-type {\n",
       "        vertical-align: middle;\n",
       "    }\n",
       "\n",
       "    .dataframe tbody tr th {\n",
       "        vertical-align: top;\n",
       "    }\n",
       "\n",
       "    .dataframe thead th {\n",
       "        text-align: right;\n",
       "    }\n",
       "</style>\n",
       "<table border=\"1\" class=\"dataframe\">\n",
       "  <thead>\n",
       "    <tr style=\"text-align: right;\">\n",
       "      <th></th>\n",
       "      <th>Geraldo Alckmin</th>\n",
       "      <th>João Amoêdo</th>\n",
       "      <th>Jair Bolsonaro</th>\n",
       "      <th>Guilherme Boulos</th>\n",
       "      <th>Ciro Gomes</th>\n",
       "      <th>Marina Silva</th>\n",
       "      <th>Fernando Haddad</th>\n",
       "      <th>Cabo Daciolo</th>\n",
       "    </tr>\n",
       "  </thead>\n",
       "  <tbody>\n",
       "    <tr>\n",
       "      <th>1</th>\n",
       "      <td>1.0</td>\n",
       "      <td>3.0</td>\n",
       "      <td>1.0</td>\n",
       "      <td>3.0</td>\n",
       "      <td>3.0</td>\n",
       "      <td>3.0</td>\n",
       "      <td>4.0</td>\n",
       "      <td>3.0</td>\n",
       "    </tr>\n",
       "    <tr>\n",
       "      <th>2</th>\n",
       "      <td>1.0</td>\n",
       "      <td>3.0</td>\n",
       "      <td>1.0</td>\n",
       "      <td>1.0</td>\n",
       "      <td>3.0</td>\n",
       "      <td>3.0</td>\n",
       "      <td>2.0</td>\n",
       "      <td>1.0</td>\n",
       "    </tr>\n",
       "    <tr>\n",
       "      <th>3</th>\n",
       "      <td>2.0</td>\n",
       "      <td>2.0</td>\n",
       "      <td>1.0</td>\n",
       "      <td>2.0</td>\n",
       "      <td>2.0</td>\n",
       "      <td>3.0</td>\n",
       "      <td>2.0</td>\n",
       "      <td>2.0</td>\n",
       "    </tr>\n",
       "    <tr>\n",
       "      <th>4</th>\n",
       "      <td>2.0</td>\n",
       "      <td>1.0</td>\n",
       "      <td>1.0</td>\n",
       "      <td>5.0</td>\n",
       "      <td>5.0</td>\n",
       "      <td>4.0</td>\n",
       "      <td>5.0</td>\n",
       "      <td>5.0</td>\n",
       "    </tr>\n",
       "    <tr>\n",
       "      <th>5</th>\n",
       "      <td>2.0</td>\n",
       "      <td>5.0</td>\n",
       "      <td>2.0</td>\n",
       "      <td>1.0</td>\n",
       "      <td>2.0</td>\n",
       "      <td>3.0</td>\n",
       "      <td>1.0</td>\n",
       "      <td>1.0</td>\n",
       "    </tr>\n",
       "  </tbody>\n",
       "</table>\n",
       "</div>"
      ],
      "text/plain": [
       "   Geraldo Alckmin  João Amoêdo  Jair Bolsonaro  Guilherme Boulos  Ciro Gomes  \\\n",
       "1              1.0          3.0             1.0               3.0         3.0   \n",
       "2              1.0          3.0             1.0               1.0         3.0   \n",
       "3              2.0          2.0             1.0               2.0         2.0   \n",
       "4              2.0          1.0             1.0               5.0         5.0   \n",
       "5              2.0          5.0             2.0               1.0         2.0   \n",
       "\n",
       "   Marina Silva  Fernando Haddad  Cabo Daciolo  \n",
       "1           3.0              4.0           3.0  \n",
       "2           3.0              2.0           1.0  \n",
       "3           3.0              2.0           2.0  \n",
       "4           4.0              5.0           5.0  \n",
       "5           3.0              1.0           1.0  "
      ]
     },
     "execution_count": 41,
     "metadata": {},
     "output_type": "execute_result"
    }
   ],
   "source": [
    "df.head()"
   ]
  },
  {
   "cell_type": "code",
   "execution_count": null,
   "metadata": {},
   "outputs": [],
   "source": []
  }
 ],
 "metadata": {
  "kernelspec": {
   "display_name": "Python 3",
   "language": "python",
   "name": "python3"
  },
  "language_info": {
   "codemirror_mode": {
    "name": "ipython",
    "version": 3
   },
   "file_extension": ".py",
   "mimetype": "text/x-python",
   "name": "python",
   "nbconvert_exporter": "python",
   "pygments_lexer": "ipython3",
   "version": "3.6.6"
  }
 },
 "nbformat": 4,
 "nbformat_minor": 2
}
